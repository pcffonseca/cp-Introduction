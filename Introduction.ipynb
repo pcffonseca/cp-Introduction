{
 "cells": [
  {
   "cell_type": "markdown",
   "metadata": {},
   "source": [
    "\n",
    "\n",
    "# **** Introduction ****\n"
   ]
  },
  {
   "cell_type": "code",
   "execution_count": null,
   "metadata": {},
   "outputs": [],
   "source": [
    "# run this cell to show a video, use slider to resize it, type Esc-o to hide it\n",
    "from IPython.display import Video, clear_output; from ipywidgets import interactive, IntSlider\n",
    "def _play(resize): display(Video(filename=\"media/ECS780P_Introduction_topicSummary.mp4\",data=\"\",width=resize))\n",
    "interactive(_play, resize=IntSlider(min=150, max=900, step=50, value=600, continuous_update=False, readout=False))"
   ]
  },
  {
   "cell_type": "markdown",
   "metadata": {},
   "source": [
    "# 1- Why Python?"
   ]
  },
  {
   "cell_type": "markdown",
   "metadata": {},
   "source": [
    "\n",
    "Here is a quote from a [blog](https://dzone.com/articles/why-python-important-you) that expresses how your lecturer (and many others) feel about Python:\n",
    "\n",
    "\"I believe that Python is important for software development. While there are more powerful languages (e.g. Lisp), faster languages (e.g. C), more used languages (e.g. Java), and weirder languages (e.g. Haskell), Python gets a lot of different things right, and right in a combination that no other language I know of has done so far.\"\n",
    "\n",
    "Python has evolved from a \"scripting language\" (more on this below) to a language in which you can write entire applications. Among other advantages, we have that:\n",
    "* Python makes writing good code easy.\n",
    "* Python keeps development time low - it's basically executable pseudocode.\n",
    "* Python has bindings for most libraries (including scientific computing ones).\n",
    "* Python code is easy to read, debug and maintain.\n",
    "* Python is *fun* (I cannot explain this one, but I'm not the only person who thinks that).\n",
    "* You can basically do anything in Python."
   ]
  },
  {
   "cell_type": "code",
   "execution_count": null,
   "metadata": {},
   "outputs": [],
   "source": [
    "# run this cell to show a video, use slider to resize it, type Esc-o to hide it\n",
    "from IPython.display import Video, clear_output; from ipywidgets import interactive, IntSlider\n",
    "def _play(resize): display(Video(filename=\"media/ECS780P_Introduction_PythonAndOthers.mp4\",data=\"\",width=resize))\n",
    "interactive(_play, resize=IntSlider(min=150, max=900, step=50, value=600, continuous_update=False, readout=False))"
   ]
  },
  {
   "cell_type": "markdown",
   "metadata": {},
   "source": [
    "# 2 - And what about Python *versus* PERL?"
   ]
  },
  {
   "cell_type": "markdown",
   "metadata": {},
   "source": [
    "There are plenty of discussions online on this topic. Lots of software is written in PERL, e.g. commercial websites like Booking.com. However:\n",
    "\n",
    "* In Computer Science circles, Python is seen as a language with much more potential than PERL.\n",
    "* Python is built on more modern technical solutions (see the Bytecode section below) and offers more capabilities than PERL.\n",
    "* PERL is a horrible first language to learn.\n",
    "\n",
    "PERL may be better for writing short scripts that do some string manipulation job quickly (not that these cannot be written in Python). However some time after writing them, PERL scripts are easier to rewrite from scratch than to  understand. Once you know Python you can learn enough PERL for that purpose on your own in about one week, if you want/need to. For any other purpose, you will want to use Python.\n"
   ]
  },
  {
   "cell_type": "code",
   "execution_count": null,
   "metadata": {},
   "outputs": [],
   "source": [
    "from IPython.display import YouTubeVideo\n",
    "# Should I learn Python or PERL\n",
    "# Video credit: Techy Help\n",
    "YouTubeVideo('9SyUFO9X_TU')"
   ]
  },
  {
   "cell_type": "markdown",
   "metadata": {},
   "source": [
    "# 3 - What is Python anyway?"
   ]
  },
  {
   "cell_type": "markdown",
   "metadata": {},
   "source": [
    "Python is a high-level, interpreted, object-oriented language with some functional programming constructs. It is also sometimes described, like PERL, as a \"scripting language\", which generally means \"interpreted and suitable for solving small tasks\", though indeed Python can be used for large projects too."
   ]
  },
  {
   "cell_type": "markdown",
   "metadata": {},
   "source": [
    "### High-level (*versus* low-level)"
   ]
  },
  {
   "cell_type": "markdown",
   "metadata": {},
   "source": [
    "Low-level languages such as ASSEMBLY and C are closer to machine code (i.e. the binary code that computers can actually run). They allow full control of the memory and the hardware, they are extremely fast, but tedious to write and difficult to debug.\n",
    "\n",
    "High-level languages such as Java, Python, and PERL are further removed from the machine code and closer to English. They are easy to write and more concise, but generally slower. Some languages such as Matlab, R, and Julia are specialised for particular task (e.g. scientific computation) and have a specific syntax (e.g. algebraic-style) to support those tasks.\n",
    "\n",
    "Python is high-level; it has a general purpose (particularly clean) syntax that makes code easy to read and maintain. Python programs are remarkably concise as compared to, for instance, Java (PERL programs are concise but tend to be unreadable)."
   ]
  },
  {
   "cell_type": "code",
   "execution_count": null,
   "metadata": {},
   "outputs": [],
   "source": [
    "from IPython.display import Image\n",
    "Image(filename='low-level-programming.jpg')"
   ]
  },
  {
   "cell_type": "markdown",
   "metadata": {},
   "source": [
    "### Interpreted (*versus* compiled)"
   ]
  },
  {
   "cell_type": "markdown",
   "metadata": {},
   "source": [
    "Program code is understandable by the programmer, but not by the machine. Therefore, there needs to be something (which is actually another program!) that translates the code to machine language before it can be executed. This translator software can be either:\n",
    "* an interpreter, or\n",
    "* a compiler.\n",
    "\n",
    "An **interpreter** translates code line-by-line as it is executed. This process is slower than compilation, as the same line may have to be translated many times; on the other hand it generates great flexibility, as a program can for instance modify itself on the fly or evaluate user input as an instruction.\n",
    "\n",
    "The development cycle is also faster with an interpreter, as code can be tested as soon as it is written. Indeed, it is possible to embed interpreted code in other environments:"
   ]
  },
  {
   "cell_type": "code",
   "execution_count": null,
   "metadata": {},
   "outputs": [],
   "source": [
    "# This is Python code\n",
    "print(\"Hello World, today!\")"
   ]
  },
  {
   "cell_type": "markdown",
   "metadata": {},
   "source": [
    "High-level languages such as Matlab, PERL and indeed Python are generally interpreted.\n",
    "\n",
    "A **compiler** translates all your program at once, before execution. The advantage is that the translation is performed \"once and for all\"; also, the compiler can perform more checks and optimisations. Once the program is compiled, it runs at machine-code speed. The disadvantage of compilation is that the development cycle becomes slower: each time you modify the code, you need to compile it. Also, when an error occurs while the program (i.e. its machine code) is running, you need to trace this back to the source code, which generally requires the use of a debugger. Low-level languages such as C/C++, Fortran and also Java are compiled.\n"
   ]
  },
  {
   "cell_type": "markdown",
   "metadata": {},
   "source": [
    "### Bytecode"
   ]
  },
  {
   "cell_type": "markdown",
   "metadata": {},
   "source": [
    "Well actually... a third way has emerged in recent years, and Python and Java actually sit in this \"grey area\" (though PERL does not). Program code can be translated (i.e. compiled) to an intermediate low-level pseudo-code called *bytecode*. This is the choice made in Java and Python (as well as languages of the Microsoft .NET framework, e.g. C#). The interpreter then only needs to convert bytecode to machine code on the fly, but this is a much simpler task. Thus the first advantage of this approach is *increased speed* relative to interpreted languages (though of course bytecode is still slow compared to native code).\n",
    "\n",
    "A second advantage is *portability*: because bytecode is an abstraction of machine code, it can be made independent of the machine. This has allowed the development of huge standard libraries for languages that use it, a feature that you will find most beneficial.\n",
    "\n",
    "Java bytecode is lower-level (and thus faster) and requires separate programs for generating and running it (the \"compiler\" and a \"virtual machine\" known as JVM), so we commonly think of Java as a \"compiled\" language. Python bytecode (that hides in *.pyc* files) is higher level and is generated and run by the Python interpreter, so we tend to think of Python as an \"interpreted\" language.\n",
    "\n",
    "Finally, it is possible to:\n",
    "* generate Java bytecode from a Python program by using Jython (http://www.jython.org/)\n",
    "* generate CIL code (i.e. the .NET bytecode) using IronPython (http://ironpython.net/), and\n",
    "* compile a subset of Python instructions to C code (and hence native machine code) using Cython (http://cython.org/).\n",
    "\n",
    "None of these is possible in PERL.\n",
    "\n"
   ]
  },
  {
   "cell_type": "markdown",
   "metadata": {},
   "source": [
    "### Object-Oriented (with benefits)"
   ]
  },
  {
   "cell_type": "markdown",
   "metadata": {},
   "source": [
    "Object-oriented programming is a technique for facilitating code reuse. It is very popular in industry, though there are arguments against it, as well as in favour. It is essentially an effective way of encapsulating data and code in independent units (known as *objects*) that can be handled without any knowledge of their internal working and modified according to your needs. **Objects** are a more advanced concept than *modules* or *functions* (both of which we will cover), and offer exciting capabilities such as inheritance (in fact, object-oriented libraries are organised in taxonomies of sorts). This obviously imposes some overhead, especially evident in languages like Java (where object-oriented programming is mandatory). \n",
    "\n",
    "The good news is: Python is object-oriented, but you can safely ignore objects if they are not useful for your task (e.g. short scripts). When you do want to use them, the overhead is minimal and the mechanism is rather elegant. By contrast, objects come as an afterthought to PERL and are not very convenient to use.\n",
    "\n",
    "Besides, Python incorporates some interesting constructs from *functional programming* (an entirely different programming paradigm exemplified by Haskell and Lisp). Notable among these are *list comprehensions*, that we will cover in this module."
   ]
  },
  {
   "cell_type": "code",
   "execution_count": null,
   "metadata": {},
   "outputs": [],
   "source": [
    "# run this cell to show a video, use slider to resize it, type Esc-o to hide it\n",
    "from IPython.display import Video, clear_output; from ipywidgets import interactive, IntSlider\n",
    "def _play(resize): display(Video(filename=\"media/ECS780P_Introduction_PythonFeatures.mp4\",data=\"\",width=resize))\n",
    "interactive(_play, resize=IntSlider(min=150, max=900, step=50, value=600, continuous_update=False, readout=False))"
   ]
  }
 ],
 "metadata": {
  "kernelspec": {
   "display_name": "Python 3",
   "language": "python",
   "name": "python3"
  },
  "language_info": {
   "codemirror_mode": {
    "name": "ipython",
    "version": 3
   },
   "file_extension": ".py",
   "mimetype": "text/x-python",
   "name": "python",
   "nbconvert_exporter": "python",
   "pygments_lexer": "ipython3",
   "version": "3.6.8"
  }
 },
 "nbformat": 4,
 "nbformat_minor": 1
}
